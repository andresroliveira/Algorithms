{
 "cells": [
  {
   "cell_type": "markdown",
   "id": "5ca52564-63ce-47aa-981c-efb900467702",
   "metadata": {},
   "source": [
    "# Cadeia de Markov"
   ]
  },
  {
   "cell_type": "markdown",
   "id": "c7b091ab-d401-4ccd-9b46-0bc837832de6",
   "metadata": {},
   "source": [
    "Suponha que eu tenho $1, 2, \\dots, n$, com $n \\in \\mathbb{N}$, estados possíveis com probalididades iniciais $$x ^{(0)} = \\begin{bmatrix}x_1^{(0)}\\\\ x_2^{(0)}\\\\\\vdots \\\\ x_n^{(0)}\\end{bmatrix},$$ em que temos probabilidade $x_i^{(0)}$ de estar no estado $i$, com $i \\in \\{1,2,\\dots, n\\}$, no instante inicial.\n",
    "\n",
    "Sendo assim, vale que $$ \\sum_{i=1}^{n} x_i^{(0)} = 1.  $$\n",
    "\n",
    "Seja $i, j \\in \\{1, 2, \\dots, n\\}$, a probabilidade de ir para o estado $i$ estando no estado $j$ é dado por $p_{i,j}$. Vale que para todo $j$, temos $$ \\sum_{i=1}^{n} p_{i,j} = 1. $$\n",
    "\n",
    "Se temos a probabilidade $x^{(t)}_i$, isto é, a probabilidade de estar no estado $i$ no instante $t$, podemos definir a probabilidade de estar no estado $i$ no instante $t+1$ como sendo $$ x^{(t+1)}_i = \\sum_{j=1}^n p_{i, j}.x^{(t)}_j,  $$ ou seja, é a soma de todas as probabilidades de ir para o estado $i$ estando no estado $j$ multiplicado pela probabilidade de estar no estado $j$ no instante $t$.\n",
    "\n",
    "Podemos pensar de modo matricial, definindo $P = (p_{i,j})$, ou seja, \n",
    "$$\n",
    "    P = \\begin{bmatrix} p_{1,1} & p_{1, 2} & \\cdots & p_{1, n}\\\\\n",
    "                        p_{2,1} & p_{2, 2} & \\cdots & p_{2, n}\\\\\n",
    "                        \\vdots & \\vdots & \\ddots & \\vdots\\\\\n",
    "                        p_{n,1} & p_{n, 2} & \\cdots & p_{n, n}\\\\\n",
    "    \\end{bmatrix},\n",
    "$$ e assim temos que $x^{(t+1)} = P x^{(t)}$, na forma matricial:\n",
    "$$ \\begin{bmatrix}x_1^{(t+1)}\\\\ x_2^{(t+1)}\\\\ \\vdots \\\\ x_n^{(t+1)}\\end{bmatrix} = \\begin{bmatrix} p_{1,1} & p_{1, 2} & \\cdots & p_{1, n}\\\\\n",
    "                        p_{2,1} & p_{2, 2} & \\cdots & p_{2, n}\\\\\n",
    "                        \\vdots & \\vdots & \\ddots & \\vdots\\\\\n",
    "                        p_{n,1} & p_{n, 2} & \\cdots & p_{n, n}\\\\\n",
    "    \\end{bmatrix} \\begin{bmatrix}x_1^{(t)}\\\\ x_2^{(t)}\\\\ \\vdots \\\\ x_n^{(t)}\\end{bmatrix}\n",
    "$$\n",
    "\n",
    "É nos dado o estado inicial $x^{(0)}$, assim, \n",
    "\n",
    " - $x^{(1)} = P x^{(0)}$;\n",
    " - $x^{(2)} = P x^{(1)} =  P P x^{(0)} = P^2 x^{(0)} $;\n",
    " - $x^{(3)} = P x^{(2)} =  P P^2 x^{(0)} = P^3 x^{(0)} $;\n",
    " - $x^{(4)} = P x^{(3)} =  P P^3 x^{(0)} = P^4 x^{(0)} $,\n",
    " \n",
    " e usando um argumento indutivo, podemos mostrar que $x^{(t)} = P^t x^{(0)}$, para todo $t \\in \\mathbb{N}$. Note que quando $t=0$, $P^0 = I$ a matriz identidade.\n",
    " \n",
    " Usando um argumento indutivo podemos mostrar também que para todo instante de tempo $t \\in \\mathbb{N}$ vale que $$ \\sum_{i=1}^{n} x_i^{(t)} = 1. $$\n",
    " \n",
    " Para $t=0$ é verdade, e de fato\n",
    " \n",
    " $$\\begin{aligned}\n",
    "     \\sum_{i=1}^{n} x_i^{(t+1)} &= \\sum_{i=1}^{n} \\sum_{j=1}^{n} p_{i, j}.x_{j}^{(t)} \\\\\n",
    "     &= \\sum_{j=1}^{n} \\sum_{i=1}^{n} p_{i, j}.x_{j}^{(t)} \\\\\n",
    "     &= \\sum_{j=1}^{n} x_{j}^{(t)} \\sum_{i=1}^{n} p_{i, j} \\\\\n",
    "     &= \\sum_{j=1}^{n} x_{j}^{(t)} = 1\n",
    " \\end{aligned}$$\n",
    "\n"
   ]
  },
  {
   "cell_type": "markdown",
   "id": "af06c1c0-f707-465e-9535-f9df10251043",
   "metadata": {},
   "source": [
    "## Bibliotecas Básicas "
   ]
  },
  {
   "cell_type": "code",
   "execution_count": 1,
   "id": "86ba52a4-bea0-4da5-99b4-66968f026ddd",
   "metadata": {},
   "outputs": [],
   "source": [
    "import numpy as np\n",
    "import matplotlib.pyplot as plt\n",
    "%matplotlib inline"
   ]
  },
  {
   "cell_type": "code",
   "execution_count": 2,
   "id": "ae3b1adf-101d-4f6b-9517-97c0efda631d",
   "metadata": {},
   "outputs": [],
   "source": [
    "n = 4\n",
    "x0 = np.zeros(n)\n",
    "x0[0] = 1"
   ]
  },
  {
   "cell_type": "code",
   "execution_count": 3,
   "id": "3b04fe3b-683f-4862-a0fe-b7d23659fe65",
   "metadata": {},
   "outputs": [
    {
     "data": {
      "text/plain": [
       "array([1., 0., 0., 0.])"
      ]
     },
     "execution_count": 3,
     "metadata": {},
     "output_type": "execute_result"
    }
   ],
   "source": [
    "x0"
   ]
  },
  {
   "cell_type": "code",
   "execution_count": 4,
   "id": "43ee8378-2516-48ee-a10a-614084b34a73",
   "metadata": {},
   "outputs": [
    {
     "data": {
      "image/png": "[encoded data removed]",
      "text/plain": [
       "<Figure size 432x288 with 1 Axes>"
      ]
     },
     "metadata": {
      "needs_background": "light"
     },
     "output_type": "display_data"
    }
   ],
   "source": [
    "plt.bar([str(i) for i in range(n)], x0)\n",
    "plt.show()"
   ]
  },
  {
   "cell_type": "code",
   "execution_count": null,
   "id": "41fedf78-e3bd-43ed-ae8f-d0977dbff4f0",
   "metadata": {},
   "outputs": [],
   "source": []
  }
 ],
 "metadata": {
  "kernelspec": {
   "display_name": "Python 3",
   "language": "python",
   "name": "python3"
  },
  "language_info": {
   "codemirror_mode": {
    "name": "ipython",
    "version": 3
   },
   "file_extension": ".py",
   "mimetype": "text/x-python",
   "name": "python",
   "nbconvert_exporter": "python",
   "pygments_lexer": "ipython3",
   "version": "3.7.10"
  },
  "toc-autonumbering": false,
  "toc-showcode": false,
  "toc-showmarkdowntxt": false
 },
 "nbformat": 4,
 "nbformat_minor": 5
}
