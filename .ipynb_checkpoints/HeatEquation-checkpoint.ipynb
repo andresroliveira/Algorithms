{
 "cells": [
  {
   "cell_type": "markdown",
   "id": "a4e487b9",
   "metadata": {},
   "source": [
    "# Heat Equation"
   ]
  },
  {
   "cell_type": "markdown",
   "id": "4511e47b",
   "metadata": {},
   "source": [
    "## Bibliotecas Básicas"
   ]
  },
  {
   "cell_type": "code",
   "execution_count": 1,
   "id": "0698784e",
   "metadata": {},
   "outputs": [],
   "source": [
    "import numpy as np\n",
    "from numpy.fft import fft, ifft, fftfreq\n",
    "import matplotlib.pyplot as plt\n",
    "from matplotlib.animation import FuncAnimation\n",
    "from matplotlib.animation import PillowWriter\n",
    "from scipy.integrate import odeint\n",
    "%matplotlib inline"
   ]
  },
  {
   "cell_type": "markdown",
   "id": "2c0ef472",
   "metadata": {},
   "source": [
    "## Heat Equation\n",
    "\n",
    "$$ \\begin{cases} \n",
    "    u_t &=& \\alpha^2 u_{xx}\\\\\n",
    "    u(0, x) &=& u_0(x) \\\\\n",
    "    u(t, -L/2) &=& 0,& \\forall t>0 \\\\\n",
    "    u(t, L/2) &=& 0,& \\forall t>0\n",
    "\\end{cases}$$\n",
    "\n",
    "using that\n",
    "\n",
    "$$ u(x, t) \\stackrel{FFT}{\\Longrightarrow} \\hat{u}(\\kappa, t) $$\n",
    "\n",
    "$$ u_x \\stackrel{FFT}{\\Longrightarrow} i \\kappa \\hat{u} $$\n",
    "\n",
    "$$ u_{xx} \\stackrel{FFT}{\\Longrightarrow} -\\kappa^2 \\hat{u} $$\n",
    "\n",
    "we have\n",
    "\n",
    "$$u_t = \\alpha^2 u_{xx} \\stackrel{FFT}{\\Longrightarrow} \\hat{u}_t = -\\alpha^2\\kappa^2 \\hat{u} $$"
   ]
  },
  {
   "cell_type": "code",
   "execution_count": 2,
   "id": "11cf4587",
   "metadata": {},
   "outputs": [],
   "source": [
    "a = 2\n",
    "L = 100\n",
    "N = 1000\n",
    "dx = L / N\n",
    "x = np.arange(-L / 2, L / 2, dx)\n",
    "kappa = 2 * np.pi * fftfreq(N, d=dx)"
   ]
  },
  {
   "cell_type": "code",
   "execution_count": 3,
   "id": "6644ae63",
   "metadata": {},
   "outputs": [
    {
     "data": {
      "image/png": "[encoded data removed]",
      "text/plain": [
       "<Figure size 432x288 with 1 Axes>"
      ]
     },
     "metadata": {
      "needs_background": "light"
     },
     "output_type": "display_data"
    }
   ],
   "source": [
    "# # Sine\n",
    "# P = L\n",
    "# f = 1/P\n",
    "# u0 = np.sin(2 * np.pi * f * x)\n",
    "\n",
    "# # Pulse\n",
    "# u0 = np.zeros(N)\n",
    "# u0[int((L / 2 - L / 10) / dx):int((L / 2 + L / 10) / dx)] = 1\n",
    "\n",
    "# Square\n",
    "u0 = np.zeros(N)\n",
    "u0[:int(N/2)] = -1\n",
    "u0[int(N/2):] = 1\n",
    "\n",
    "# # Line\n",
    "# u0 = 2 / L * x\n",
    "\n",
    "# # Parabola\n",
    "# u0 = 8 / L**2 * x**2 - 1\n",
    "\n",
    "plt.plot(x, u0, label='$u_0$')\n",
    "plt.xlabel('x')\n",
    "plt.title('Condição inicial t=0')\n",
    "plt.legend()\n",
    "plt.show()"
   ]
  },
  {
   "cell_type": "code",
   "execution_count": 4,
   "id": "cdf15c01",
   "metadata": {},
   "outputs": [],
   "source": [
    "u0hat = fft(u0)\n",
    "u0hat_ri = np.concatenate((u0hat.real, u0hat.imag))\n",
    "# len(u0hat_ri)"
   ]
  },
  {
   "cell_type": "code",
   "execution_count": 5,
   "id": "c7f5828a",
   "metadata": {},
   "outputs": [
    {
     "data": {
      "image/png": "[encoded data removed]",
      "text/plain": [
       "<Figure size 432x288 with 1 Axes>"
      ]
     },
     "metadata": {
      "needs_background": "light"
     },
     "output_type": "display_data"
    }
   ],
   "source": [
    "plt.figure()\n",
    "plt.plot(kappa, u0hat.real)\n",
    "plt.plot(kappa, u0hat.imag)\n",
    "plt.title('FFT of $u_0$')\n",
    "plt.show()"
   ]
  },
  {
   "cell_type": "code",
   "execution_count": 6,
   "id": "60c6c1b4",
   "metadata": {},
   "outputs": [],
   "source": [
    "def heat(uhat_ri, t, kappa, a):\n",
    "    uhat = uhat_ri[:N] + (1j) * uhat_ri[N:]\n",
    "    d_uhat = -a**2 * kappa**2 * uhat\n",
    "    d_uhat_ri = np.concatenate((d_uhat.real, d_uhat.imag)).astype('float64')\n",
    "    return d_uhat_ri"
   ]
  },
  {
   "cell_type": "code",
   "execution_count": 7,
   "id": "30a1c7ab",
   "metadata": {},
   "outputs": [
    {
     "name": "stdout",
     "output_type": "stream",
     "text": [
      "Wall time: 17.2 s\n"
     ]
    }
   ],
   "source": [
    "%%time\n",
    "dt = 0.1\n",
    "t = np.arange(0, 10, dt)\n",
    "uhat_ri = odeint(heat, u0hat_ri, t, args=(kappa, a))\n",
    "uhat = uhat_ri[:, :N] + (1j) * uhat_ri[:, N:]\n",
    "# len(uhat)"
   ]
  },
  {
   "cell_type": "code",
   "execution_count": 8,
   "id": "919ae4af",
   "metadata": {},
   "outputs": [],
   "source": [
    "u = np.zeros_like(uhat)\n",
    "\n",
    "for j in range(len(t)):\n",
    "    u[j:] = ifft(uhat[j:])"
   ]
  },
  {
   "cell_type": "code",
   "execution_count": 9,
   "id": "a59534a4",
   "metadata": {},
   "outputs": [],
   "source": [
    "u = u.real"
   ]
  },
  {
   "cell_type": "code",
   "execution_count": 10,
   "id": "b78326d8",
   "metadata": {
    "scrolled": false
   },
   "outputs": [],
   "source": [
    "# plt.figure()\n",
    "# for i in range(0,len(t),9):\n",
    "#     plt.plot(x, u[i])\n",
    "#     plt.xlabel('$x$')\n",
    "#     plt.ylim((min(u0)-.1, max(u0)+.1))\n",
    "#     plt.title(\"u(%.1f)\"%t[i])\n",
    "#     plt.show()"
   ]
  },
  {
   "cell_type": "code",
   "execution_count": 11,
   "id": "079cc4d6",
   "metadata": {},
   "outputs": [
    {
     "data": {
      "image/png": "[encoded data removed]",
      "text/plain": [
       "<Figure size 720x432 with 1 Axes>"
      ]
     },
     "metadata": {
      "needs_background": "light"
     },
     "output_type": "display_data"
    }
   ],
   "source": [
    "def init():\n",
    "    line.set_data([], [])\n",
    "    return line,\n",
    "\n",
    "\n",
    "def animate(i):\n",
    "    ax.set_title(\"Solution of the heat equation\", fontsize='xx-large')\n",
    "    ax.set_xlabel(\"Position\", fontsize='x-large')\n",
    "    ax.set_ylabel(\"Temperature\", fontsize='x-large')\n",
    "    line.set_data(x, u[i])\n",
    "    return line,\n",
    "\n",
    "\n",
    "fig = plt.figure(figsize=(10, 6))\n",
    "ax = plt.axes(xlim=(-L / 2, L / 2), ylim=(min(u0) - .1, max(u0) + .1))\n",
    "ax.set_title(\"Solution of the heat equation\", fontsize='xx-large')\n",
    "ax.set_xlabel(\"Position\", fontsize='x-large')\n",
    "ax.set_ylabel(\"Temperature\", fontsize='x-large')\n",
    "line, = ax.plot(x, u0, lw=2)"
   ]
  },
  {
   "cell_type": "code",
   "execution_count": 12,
   "id": "0a2cff5e",
   "metadata": {},
   "outputs": [],
   "source": [
    "anim = FuncAnimation(fig,\n",
    "                     animate,\n",
    "                     init_func=init,\n",
    "                     frames=len(t),\n",
    "                     interval=1 / dt,\n",
    "                     blit=True)"
   ]
  },
  {
   "cell_type": "code",
   "execution_count": 13,
   "id": "60287219",
   "metadata": {},
   "outputs": [
    {
     "name": "stdout",
     "output_type": "stream",
     "text": [
      "Wall time: 10.5 s\n"
     ]
    }
   ],
   "source": [
    "%%time\n",
    "anim.save('heat.gif', writer='pillow', fps=1 / dt)"
   ]
  },
  {
   "cell_type": "markdown",
   "id": "797022d1",
   "metadata": {},
   "source": [
    "![](heat.gif)"
   ]
  }
 ],
 "metadata": {
  "kernelspec": {
   "display_name": "Python 3",
   "language": "python",
   "name": "python3"
  },
  "language_info": {
   "codemirror_mode": {
    "name": "ipython",
    "version": 3
   },
   "file_extension": ".py",
   "mimetype": "text/x-python",
   "name": "python",
   "nbconvert_exporter": "python",
   "pygments_lexer": "ipython3",
   "version": "3.7.10"
  }
 },
 "nbformat": 4,
 "nbformat_minor": 5
}
