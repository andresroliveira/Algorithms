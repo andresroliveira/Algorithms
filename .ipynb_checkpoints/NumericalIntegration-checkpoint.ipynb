{
 "cells": [
  {
   "cell_type": "markdown",
   "id": "alien-carbon",
   "metadata": {},
   "source": [
    "# Integração Numérica"
   ]
  },
  {
   "cell_type": "markdown",
   "id": "together-holly",
   "metadata": {},
   "source": [
    "## Blibliotecas Básicas"
   ]
  },
  {
   "cell_type": "code",
   "execution_count": 1,
   "id": "configured-sellers",
   "metadata": {},
   "outputs": [],
   "source": [
    "import numpy as np\n",
    "import pandas as pd\n",
    "import matplotlib.pyplot as plt\n",
    "%matplotlib inline"
   ]
  },
  {
   "cell_type": "markdown",
   "id": "phantom-trial",
   "metadata": {},
   "source": [
    "## Definindo a Função"
   ]
  },
  {
   "cell_type": "code",
   "execution_count": 2,
   "id": "frequent-kinase",
   "metadata": {},
   "outputs": [],
   "source": [
    "def f(x):\n",
    "    return np.exp(-x*x)"
   ]
  },
  {
   "cell_type": "code",
   "execution_count": 3,
   "id": "resident-luxury",
   "metadata": {},
   "outputs": [
    {
     "data": {
      "image/png": "[encoded data removed]",
      "text/plain": [
       "<Figure size 432x288 with 1 Axes>"
      ]
     },
     "metadata": {
      "needs_background": "light"
     },
     "output_type": "display_data"
    }
   ],
   "source": [
    "x = np.linspace(-10,10,1000)\n",
    "y = f(x)\n",
    "\n",
    "fig = plt.figure()\n",
    "ax = fig.add_subplot(1, 1, 1)\n",
    "ax.spines['left'].set_position('center')\n",
    "ax.spines['bottom'].set_position('zero')\n",
    "ax.spines['right'].set_color('none')\n",
    "ax.spines['top'].set_color('none')\n",
    "ax.xaxis.set_ticks_position('bottom')\n",
    "ax.yaxis.set_ticks_position('left')\n",
    "\n",
    "# plot the function\n",
    "plt.plot(x,y, 'r', label = \"$f(x) = e^{-x^2}$\")\n",
    "plt.legend(loc='upper left')\n",
    "\n",
    "# show the plot\n",
    "plt.show()"
   ]
  },
  {
   "cell_type": "markdown",
   "id": "super-wrong",
   "metadata": {},
   "source": [
    "## Regra dos Retângulos"
   ]
  },
  {
   "cell_type": "code",
   "execution_count": 4,
   "id": "cordless-projection",
   "metadata": {},
   "outputs": [
    {
     "name": "stdout",
     "output_type": "stream",
     "text": [
      "1.7719076125069413\n"
     ]
    }
   ],
   "source": [
    "interval = [-2.5,2.5]\n",
    "n = 10\n",
    "h = (interval[1] - interval[0])/n\n",
    "a = interval[0]\n",
    "b = a + h\n",
    "\n",
    "s = 0.0\n",
    "for i in range(n):\n",
    "    s += h*f((a+b)/2.0)\n",
    "    a = b\n",
    "    b += h\n",
    "    \n",
    "print(s)"
   ]
  },
  {
   "cell_type": "markdown",
   "id": "demonstrated-microwave",
   "metadata": {},
   "source": [
    "## Regra do Trapezoide"
   ]
  },
  {
   "cell_type": "code",
   "execution_count": 5,
   "id": "herbal-monkey",
   "metadata": {},
   "outputs": [
    {
     "name": "stdout",
     "output_type": "stream",
     "text": [
      "1.7713603147615598\n"
     ]
    }
   ],
   "source": [
    "interval = [-2.5,2.5]\n",
    "n = 10\n",
    "h = (interval[1] - interval[0])/n\n",
    "a = interval[0]\n",
    "b = a + h\n",
    "\n",
    "s = 0.0\n",
    "for i in range(n):\n",
    "    s += h*(f(a)+f(b))/2.0\n",
    "    a = b\n",
    "    b += h\n",
    "    \n",
    "print(s)"
   ]
  },
  {
   "cell_type": "markdown",
   "id": "thousand-hydrogen",
   "metadata": {},
   "source": [
    "## Regra de Simpsom"
   ]
  },
  {
   "cell_type": "code",
   "execution_count": 6,
   "id": "organized-shopper",
   "metadata": {},
   "outputs": [
    {
     "name": "stdout",
     "output_type": "stream",
     "text": [
      "1.7717251799251474\n"
     ]
    }
   ],
   "source": [
    "interval = [-2.5,2.5]\n",
    "n = 10\n",
    "h = (interval[1] - interval[0])/n\n",
    "a = interval[0]\n",
    "b = a + h\n",
    "\n",
    "s = 0.0\n",
    "for i in range(n):\n",
    "    s += h*(f(a) + 4*f((a+b)/2.0) + f(b))/6.0\n",
    "    a = b\n",
    "    b += h\n",
    "    \n",
    "print(s)"
   ]
  }
 ],
 "metadata": {
  "kernelspec": {
   "display_name": "Python 3",
   "language": "python",
   "name": "python3"
  },
  "language_info": {
   "codemirror_mode": {
    "name": "ipython",
    "version": 3
   },
   "file_extension": ".py",
   "mimetype": "text/x-python",
   "name": "python",
   "nbconvert_exporter": "python",
   "pygments_lexer": "ipython3",
   "version": "3.7.10"
  }
 },
 "nbformat": 4,
 "nbformat_minor": 5
}
