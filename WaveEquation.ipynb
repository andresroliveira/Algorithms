{
 "cells": [
  {
   "cell_type": "markdown",
   "id": "f1d53364",
   "metadata": {},
   "source": [
    "# Wave Equation"
   ]
  },
  {
   "cell_type": "code",
   "execution_count": 1,
   "id": "47391f45",
   "metadata": {},
   "outputs": [],
   "source": [
    "import numpy as np\n",
    "from numpy.fft import fft, ifft, fftfreq\n",
    "import matplotlib.pyplot as plt\n",
    "from matplotlib.animation import FuncAnimation\n",
    "from matplotlib.animation import PillowWriter\n",
    "from scipy.integrate import odeint\n",
    "%matplotlib inline"
   ]
  },
  {
   "cell_type": "markdown",
   "id": "932d450d",
   "metadata": {},
   "source": [
    "$$\\begin{cases}\n",
    "    u_t + c u_x &=& 0 \\\\\n",
    "    u(0, x) &=& u_0(x)\n",
    "\\end{cases} $$\n",
    "\n",
    "$$u_t = -c u_{x} \\stackrel{FFT}{\\Longrightarrow} \\hat{u}_t = -c \\,i\\,\\kappa \\hat{u} $$"
   ]
  },
  {
   "cell_type": "code",
   "execution_count": 2,
   "id": "4f119662",
   "metadata": {},
   "outputs": [],
   "source": [
    "c = 2\n",
    "L = 20\n",
    "N = 2000\n",
    "dx = L / N\n",
    "x = np.arange(-L / 2, L / 2, dx)\n",
    "kappa = 2 * np.pi * fftfreq(N, d=dx)"
   ]
  },
  {
   "cell_type": "code",
   "execution_count": 3,
   "id": "f63741f4",
   "metadata": {},
   "outputs": [
    {
     "data": {
      "image/png": "[encoded data removed]",
      "text/plain": [
       "<Figure size 432x288 with 1 Axes>"
      ]
     },
     "metadata": {
      "needs_background": "light"
     },
     "output_type": "display_data"
    }
   ],
   "source": [
    "# u0 = 1 / np.cosh(x)\n",
    "\n",
    "u0 = np.zeros(N)\n",
    "u0[int((L / 2 - L / 10) / dx):int((L / 2 + L / 10) / dx)] = 1\n",
    "\n",
    "plt.plot(x, u0, label='$u_0$')\n",
    "plt.xlabel('x')\n",
    "plt.title('Condição inicial t=0')\n",
    "plt.legend()\n",
    "plt.show()"
   ]
  },
  {
   "cell_type": "code",
   "execution_count": 4,
   "id": "93bcea3f",
   "metadata": {},
   "outputs": [
    {
     "data": {
      "text/plain": [
       "4000"
      ]
     },
     "execution_count": 4,
     "metadata": {},
     "output_type": "execute_result"
    }
   ],
   "source": [
    "u0hat = fft(u0)\n",
    "u0hat_ri = np.concatenate((u0hat.real, u0hat.imag))\n",
    "len(u0hat_ri)"
   ]
  },
  {
   "cell_type": "code",
   "execution_count": 5,
   "id": "3c06e0f4",
   "metadata": {},
   "outputs": [
    {
     "data": {
      "image/png": "[encoded data removed]",
      "text/plain": [
       "<Figure size 432x288 with 1 Axes>"
      ]
     },
     "metadata": {
      "needs_background": "light"
     },
     "output_type": "display_data"
    }
   ],
   "source": [
    "plt.figure()\n",
    "plt.plot(kappa, u0hat.real)\n",
    "plt.plot(kappa, u0hat.imag)\n",
    "plt.title('FFT of $u_0$')\n",
    "plt.show()"
   ]
  },
  {
   "cell_type": "code",
   "execution_count": 6,
   "id": "687ebd87",
   "metadata": {},
   "outputs": [],
   "source": [
    "def wave(uhat_ri, t, kappa, c):\n",
    "    uhat = uhat_ri[:N] + (1j) * uhat_ri[N:]\n",
    "    d_uhat = -c * (1j) * kappa * uhat\n",
    "    d_uhat_ri = np.concatenate((d_uhat.real, d_uhat.imag)).astype('float64')\n",
    "    return d_uhat_ri"
   ]
  },
  {
   "cell_type": "code",
   "execution_count": 7,
   "id": "3bb2a703",
   "metadata": {},
   "outputs": [
    {
     "name": "stdout",
     "output_type": "stream",
     "text": [
      "Wall time: 27.2 s\n"
     ]
    },
    {
     "data": {
      "text/plain": [
       "400"
      ]
     },
     "execution_count": 7,
     "metadata": {},
     "output_type": "execute_result"
    }
   ],
   "source": [
    "%%time\n",
    "dt = 0.025\n",
    "t = np.arange(0, 10, dt)\n",
    "uhat_ri = odeint(wave, u0hat_ri, t, args=(kappa, c))\n",
    "uhat = uhat_ri[:, :N] + (1j) * uhat_ri[:, N:]\n",
    "len(uhat)"
   ]
  },
  {
   "cell_type": "code",
   "execution_count": 8,
   "id": "7f10c699",
   "metadata": {},
   "outputs": [],
   "source": [
    "u = np.zeros_like(uhat)\n",
    "\n",
    "for j in range(len(t)):\n",
    "    u[j:] = ifft(uhat[j:])\n",
    "\n",
    "u = u.real"
   ]
  },
  {
   "cell_type": "code",
   "execution_count": 9,
   "id": "540240de",
   "metadata": {
    "scrolled": false
   },
   "outputs": [],
   "source": [
    "# plt.figure()\n",
    "# for i in range(0, len(t), 9):\n",
    "#     plt.plot(x, u[i])\n",
    "#     plt.xlabel('$x$')\n",
    "#     plt.ylim((min(u0) - .1, max(u0) + .1))\n",
    "#     plt.title(\"u(%.1f)\" % t[i])\n",
    "#     plt.show()"
   ]
  },
  {
   "cell_type": "code",
   "execution_count": 10,
   "id": "ac480ed6",
   "metadata": {},
   "outputs": [
    {
     "data": {
      "image/png": "[encoded data removed]",
      "text/plain": [
       "<Figure size 720x432 with 1 Axes>"
      ]
     },
     "metadata": {
      "needs_background": "light"
     },
     "output_type": "display_data"
    }
   ],
   "source": [
    "def init():\n",
    "    line.set_data([], [])\n",
    "    return line,\n",
    "\n",
    "\n",
    "def animate(i):\n",
    "    ax.set_title(\"Solution of the wave equation\", fontsize='xx-large')\n",
    "    ax.set_xlabel(\"Position\", fontsize='x-large')\n",
    "    ax.set_ylabel(\"Height\", fontsize='x-large')\n",
    "    line.set_data(x, u[i])\n",
    "    return line,\n",
    "\n",
    "\n",
    "fig = plt.figure(figsize=(10, 6))\n",
    "ax = plt.axes(xlim=(-L / 2, L / 2), ylim=(min(u0) - .1, max(u0) + .1))\n",
    "ax.set_title(\"Solution of the wave equation\", fontsize='xx-large')\n",
    "ax.set_xlabel(\"Position\", fontsize='x-large')\n",
    "ax.set_ylabel(\"Height\", fontsize='x-large')\n",
    "line, = ax.plot(x, u0, lw=2)"
   ]
  },
  {
   "cell_type": "code",
   "execution_count": 11,
   "id": "acf47c42",
   "metadata": {},
   "outputs": [],
   "source": [
    "anim = FuncAnimation(fig,\n",
    "                     animate,\n",
    "                     init_func=init,\n",
    "                     frames=len(t),\n",
    "                     interval=1 / dt,\n",
    "                     blit=True)"
   ]
  },
  {
   "cell_type": "code",
   "execution_count": 12,
   "id": "c24615f7",
   "metadata": {},
   "outputs": [
    {
     "name": "stdout",
     "output_type": "stream",
     "text": [
      "Wall time: 39.8 s\n"
     ]
    }
   ],
   "source": [
    "%%time\n",
    "anim.save('wave.gif', writer='pillow', fps=1 / dt)"
   ]
  },
  {
   "cell_type": "markdown",
   "id": "69541416",
   "metadata": {},
   "source": [
    "![](wave.gif)"
   ]
  }
 ],
 "metadata": {
  "kernelspec": {
   "display_name": "Python 3",
   "language": "python",
   "name": "python3"
  },
  "language_info": {
   "codemirror_mode": {
    "name": "ipython",
    "version": 3
   },
   "file_extension": ".py",
   "mimetype": "text/x-python",
   "name": "python",
   "nbconvert_exporter": "python",
   "pygments_lexer": "ipython3",
   "version": "3.7.10"
  }
 },
 "nbformat": 4,
 "nbformat_minor": 5
}
