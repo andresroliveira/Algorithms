{
 "cells": [
  {
   "cell_type": "markdown",
   "id": "prime-terrain",
   "metadata": {},
   "source": [
    "# Molecular Distance Geometry"
   ]
  },
  {
   "cell_type": "markdown",
   "id": "protected-lightweight",
   "metadata": {},
   "source": [
    "## Basic Libraries"
   ]
  },
  {
   "cell_type": "code",
   "execution_count": 1,
   "id": "coral-recall",
   "metadata": {},
   "outputs": [],
   "source": [
    "import numpy as np\n",
    "import pandas as pd\n",
    "import matplotlib.pyplot as plt\n",
    "import copy\n",
    "from numba import jit, njit\n",
    "%matplotlib inline"
   ]
  },
  {
   "cell_type": "code",
   "execution_count": 2,
   "id": "broken-environment",
   "metadata": {},
   "outputs": [],
   "source": [
    "def dist(p, q):\n",
    "    return np.linalg.norm(p - q)\n",
    "\n",
    "\n",
    "def norm(v):\n",
    "    return np.linalg.norm(v)"
   ]
  },
  {
   "cell_type": "markdown",
   "id": "sapphire-dividend",
   "metadata": {},
   "source": [
    "## Reading the input from a csv"
   ]
  },
  {
   "cell_type": "code",
   "execution_count": 25,
   "id": "mediterranean-massage",
   "metadata": {},
   "outputs": [],
   "source": [
    "data = pd.read_csv(\"7_18.csv\")"
   ]
  },
  {
   "cell_type": "code",
   "execution_count": 26,
   "id": "fiscal-adoption",
   "metadata": {},
   "outputs": [
    {
     "data": {
      "text/html": [
       "<div>\n",
       "<style scoped>\n",
       "    .dataframe tbody tr th:only-of-type {\n",
       "        vertical-align: middle;\n",
       "    }\n",
       "\n",
       "    .dataframe tbody tr th {\n",
       "        vertical-align: top;\n",
       "    }\n",
       "\n",
       "    .dataframe thead th {\n",
       "        text-align: right;\n",
       "    }\n",
       "</style>\n",
       "<table border=\"1\" class=\"dataframe\">\n",
       "  <thead>\n",
       "    <tr style=\"text-align: right;\">\n",
       "      <th></th>\n",
       "      <th>u</th>\n",
       "      <th>v</th>\n",
       "      <th>duv</th>\n",
       "    </tr>\n",
       "  </thead>\n",
       "  <tbody>\n",
       "    <tr>\n",
       "      <th>0</th>\n",
       "      <td>5</td>\n",
       "      <td>6</td>\n",
       "      <td>1.526000</td>\n",
       "    </tr>\n",
       "    <tr>\n",
       "      <th>1</th>\n",
       "      <td>2</td>\n",
       "      <td>6</td>\n",
       "      <td>3.949161</td>\n",
       "    </tr>\n",
       "    <tr>\n",
       "      <th>2</th>\n",
       "      <td>4</td>\n",
       "      <td>6</td>\n",
       "      <td>2.491390</td>\n",
       "    </tr>\n",
       "    <tr>\n",
       "      <th>3</th>\n",
       "      <td>1</td>\n",
       "      <td>4</td>\n",
       "      <td>3.808751</td>\n",
       "    </tr>\n",
       "    <tr>\n",
       "      <th>4</th>\n",
       "      <td>4</td>\n",
       "      <td>7</td>\n",
       "      <td>2.666295</td>\n",
       "    </tr>\n",
       "    <tr>\n",
       "      <th>5</th>\n",
       "      <td>3</td>\n",
       "      <td>5</td>\n",
       "      <td>2.491390</td>\n",
       "    </tr>\n",
       "    <tr>\n",
       "      <th>6</th>\n",
       "      <td>2</td>\n",
       "      <td>4</td>\n",
       "      <td>2.491390</td>\n",
       "    </tr>\n",
       "    <tr>\n",
       "      <th>7</th>\n",
       "      <td>1</td>\n",
       "      <td>5</td>\n",
       "      <td>4.615439</td>\n",
       "    </tr>\n",
       "    <tr>\n",
       "      <th>8</th>\n",
       "      <td>3</td>\n",
       "      <td>4</td>\n",
       "      <td>1.526000</td>\n",
       "    </tr>\n",
       "    <tr>\n",
       "      <th>9</th>\n",
       "      <td>2</td>\n",
       "      <td>5</td>\n",
       "      <td>3.561412</td>\n",
       "    </tr>\n",
       "    <tr>\n",
       "      <th>10</th>\n",
       "      <td>1</td>\n",
       "      <td>2</td>\n",
       "      <td>1.526000</td>\n",
       "    </tr>\n",
       "    <tr>\n",
       "      <th>11</th>\n",
       "      <td>1</td>\n",
       "      <td>3</td>\n",
       "      <td>2.491390</td>\n",
       "    </tr>\n",
       "    <tr>\n",
       "      <th>12</th>\n",
       "      <td>4</td>\n",
       "      <td>5</td>\n",
       "      <td>1.526000</td>\n",
       "    </tr>\n",
       "    <tr>\n",
       "      <th>13</th>\n",
       "      <td>1</td>\n",
       "      <td>6</td>\n",
       "      <td>4.581128</td>\n",
       "    </tr>\n",
       "    <tr>\n",
       "      <th>14</th>\n",
       "      <td>3</td>\n",
       "      <td>6</td>\n",
       "      <td>2.651551</td>\n",
       "    </tr>\n",
       "    <tr>\n",
       "      <th>15</th>\n",
       "      <td>6</td>\n",
       "      <td>7</td>\n",
       "      <td>1.526000</td>\n",
       "    </tr>\n",
       "    <tr>\n",
       "      <th>16</th>\n",
       "      <td>2</td>\n",
       "      <td>3</td>\n",
       "      <td>1.526000</td>\n",
       "    </tr>\n",
       "    <tr>\n",
       "      <th>17</th>\n",
       "      <td>5</td>\n",
       "      <td>7</td>\n",
       "      <td>2.491390</td>\n",
       "    </tr>\n",
       "  </tbody>\n",
       "</table>\n",
       "</div>"
      ],
      "text/plain": [
       "    u  v       duv\n",
       "0   5  6  1.526000\n",
       "1   2  6  3.949161\n",
       "2   4  6  2.491390\n",
       "3   1  4  3.808751\n",
       "4   4  7  2.666295\n",
       "5   3  5  2.491390\n",
       "6   2  4  2.491390\n",
       "7   1  5  4.615439\n",
       "8   3  4  1.526000\n",
       "9   2  5  3.561412\n",
       "10  1  2  1.526000\n",
       "11  1  3  2.491390\n",
       "12  4  5  1.526000\n",
       "13  1  6  4.581128\n",
       "14  3  6  2.651551\n",
       "15  6  7  1.526000\n",
       "16  2  3  1.526000\n",
       "17  5  7  2.491390"
      ]
     },
     "execution_count": 26,
     "metadata": {},
     "output_type": "execute_result"
    }
   ],
   "source": [
    "data"
   ]
  },
  {
   "cell_type": "markdown",
   "id": "spanish-colonial",
   "metadata": {},
   "source": [
    "## Converting the data to a graph"
   ]
  },
  {
   "cell_type": "code",
   "execution_count": 27,
   "id": "northern-teens",
   "metadata": {},
   "outputs": [],
   "source": [
    "n = max(data['v'])\n",
    "m = len(data['duv'])"
   ]
  },
  {
   "cell_type": "code",
   "execution_count": 28,
   "id": "classified-expense",
   "metadata": {},
   "outputs": [
    {
     "data": {
      "text/plain": [
       "(7, 18)"
      ]
     },
     "execution_count": 28,
     "metadata": {},
     "output_type": "execute_result"
    }
   ],
   "source": [
    "n, m"
   ]
  },
  {
   "cell_type": "code",
   "execution_count": 29,
   "id": "american-retirement",
   "metadata": {},
   "outputs": [],
   "source": [
    "g = [[] for _ in range(n + 1)]\n",
    "edges = []\n",
    "prune_edges = []\n",
    "\n",
    "for i, r in data.iterrows():\n",
    "    u = int(r['u'])\n",
    "    v = int(r['v'])\n",
    "    duv = r['duv']\n",
    "\n",
    "    g[u].append((v, duv))\n",
    "    g[v].append((u, duv))\n",
    "    edges.append((u, v, duv))\n",
    "\n",
    "    if u + 3 < v:\n",
    "        prune_edges.append((u, v))"
   ]
  },
  {
   "cell_type": "markdown",
   "id": "defined-recipient",
   "metadata": {},
   "source": [
    "## Symetries"
   ]
  },
  {
   "cell_type": "code",
   "execution_count": 30,
   "id": "modern-cisco",
   "metadata": {},
   "outputs": [],
   "source": [
    "def sym(n, prune_edges):\n",
    "    w = [0 for _ in range(n + 1)]\n",
    "\n",
    "    for ep in prune_edges:\n",
    "        u = ep[0]\n",
    "        v = ep[1]\n",
    "\n",
    "        w[u] = max(w[u], v)\n",
    "\n",
    "    eps = []\n",
    "\n",
    "    for i in range(n + 1):\n",
    "        if w[i] != 0:\n",
    "            eps.append((i, w[i]))\n",
    "\n",
    "    u_bar, v_bar = eps[0]\n",
    "    S_bar = []\n",
    "\n",
    "    for k in range(1, len(eps)):\n",
    "        u_k = eps[k][0]\n",
    "        v_k = eps[k][1]\n",
    "\n",
    "        if v_bar >= u_k + 3:\n",
    "            v_bar = max(v_bar, v_k)\n",
    "        else:\n",
    "            S_bar.append((u_bar + 4, v_bar))\n",
    "            u_bar = u_k\n",
    "            v_bar = v_k\n",
    "\n",
    "    S_bar.append((u_bar + 4, v_bar))\n",
    "\n",
    "    S = [4]\n",
    "    i = 0\n",
    "    for v in range(5, n + 1):\n",
    "        u_bar = S_bar[i][0]\n",
    "        v_bar = S_bar[i][1]\n",
    "\n",
    "        if not (u_bar <= v and v <= v_bar):\n",
    "            S.append(v)\n",
    "\n",
    "        if v == v_bar and i + 1 < len(S_bar):\n",
    "            i += 1\n",
    "\n",
    "    return np.array(S)"
   ]
  },
  {
   "cell_type": "code",
   "execution_count": 31,
   "id": "uniform-iraqi",
   "metadata": {},
   "outputs": [
    {
     "data": {
      "text/plain": [
       "array([4, 7])"
      ]
     },
     "execution_count": 31,
     "metadata": {},
     "output_type": "execute_result"
    }
   ],
   "source": [
    "sym(n, prune_edges)"
   ]
  },
  {
   "cell_type": "markdown",
   "id": "generous-meditation",
   "metadata": {},
   "source": [
    "## Branch & Prune"
   ]
  },
  {
   "cell_type": "code",
   "execution_count": 32,
   "id": "artistic-bottle",
   "metadata": {},
   "outputs": [],
   "source": [
    "def ComprimentoAresta(g, u, v):\n",
    "    duv = 0.0\n",
    "\n",
    "    for i in range(len(g[u])):\n",
    "        if g[u][i][0] == v:\n",
    "            duv = g[u][i][1]\n",
    "            break\n",
    "\n",
    "    return duv\n",
    "\n",
    "\n",
    "def PontosIniciais(n, g):\n",
    "    X = np.array([np.array([0.0, 0.0, 0.0]) for _ in range(n + 1)])\n",
    "\n",
    "    d12 = ComprimentoAresta(g, 1, 2)\n",
    "    d13 = ComprimentoAresta(g, 1, 3)\n",
    "    d23 = ComprimentoAresta(g, 2, 3)\n",
    "\n",
    "    cth = (d12**2 + d23**2 - d13**2) / (2 * d12 * d23)\n",
    "    th = np.arccos(cth)\n",
    "    sth = np.sin(th)\n",
    "\n",
    "    X[2] = np.array([-d12, 0.0, 0.0])\n",
    "    X[3] = np.array([-d12 + d23 * cth, d23 * sth, 0.0])\n",
    "\n",
    "    return X"
   ]
  },
  {
   "cell_type": "code",
   "execution_count": 33,
   "id": "broadband-breeding",
   "metadata": {},
   "outputs": [],
   "source": [
    "def Intersecao3Esferas(A, ra, B, rb, C, rc):\n",
    "    x1 = A\n",
    "    x2 = B\n",
    "    x3 = C\n",
    "    #     print(\"Intersecao3Esferas \", x1, x2, x3)\n",
    "    d12 = dist(x1, x2)\n",
    "    d13 = dist(x1, x3)\n",
    "    d14 = ra\n",
    "    d23 = dist(x2, x3)\n",
    "    d24 = rb\n",
    "    d34 = rc\n",
    "\n",
    "    r = (x3 - x2) / d23\n",
    "    k234 = (d24**2 + d23**2 - d34**2) / (2 * d23)\n",
    "    p234 = np.sqrt(d24**2 - k234**2)\n",
    "\n",
    "    v = x1 - x2\n",
    "    k123 = (d12**2 + d23**2 - d13**2) / (2 * d23)\n",
    "    p123 = np.sqrt(d12**2 - k123**2)\n",
    "\n",
    "    alpha = ((k234 - k123)**2 + p234**2 + p123**2) / (2 * p234 * p123)\n",
    "    beta = -(1 / (2 * p234 * p123))\n",
    "\n",
    "    cw = alpha + beta * d14**2\n",
    "    sw = np.sqrt(1 - cw**2)\n",
    "\n",
    "    X1 = x2 + k234 * r + (p234 / p123) * (\n",
    "        (v - k123 * r) * cw + np.cross(r, v) * sw)\n",
    "    X2 = x2 + k234 * r + (p234 / p123) * (\n",
    "        (v - k123 * r) * cw - np.cross(r, v) * sw)\n",
    "\n",
    "    return np.array([X1, X2])"
   ]
  },
  {
   "cell_type": "code",
   "execution_count": 34,
   "id": "given-participant",
   "metadata": {},
   "outputs": [],
   "source": [
    "def CalculaPonto(g, X, b, k):\n",
    "    d1 = ComprimentoAresta(g, k - 3, k)\n",
    "    d2 = ComprimentoAresta(g, k - 2, k)\n",
    "    d3 = ComprimentoAresta(g, k - 1, k)\n",
    "    #     print(\"CalculaPonto \", X[k-3], d1, X[k-2], d2, X[k-1], d3)\n",
    "    pp = Intersecao3Esferas(X[k - 3], d1, X[k - 2], d2, X[k - 1], d3)\n",
    "    return pp[b]\n",
    "\n",
    "\n",
    "def CalculaErro(g, X, v):\n",
    "    erro = 0.0\n",
    "    for i in range(len(g[v])):\n",
    "        u = g[v][i][0]\n",
    "        di = g[v][i][1]\n",
    "\n",
    "        if u < v:\n",
    "            duv = dist(X[u], X[v])\n",
    "            erro += (duv**2 - di**2)**2\n",
    "\n",
    "    return np.sqrt(erro)"
   ]
  },
  {
   "cell_type": "code",
   "execution_count": 35,
   "id": "million-wright",
   "metadata": {},
   "outputs": [],
   "source": [
    "def bp(n, g, onesol=False, delta=10**-6):\n",
    "    X = PontosIniciais(n, g)\n",
    "    branch = np.zeros(n + 1, dtype=int)\n",
    "    vist = np.zeros(n + 1, dtype=int)\n",
    "    vist[1] = 1\n",
    "    vist[2] = 1\n",
    "    vist[3] = 1\n",
    "\n",
    "    sol = {\"X\": [], \"branch\": []}\n",
    "\n",
    "    k = 4\n",
    "\n",
    "    while k > 3:\n",
    "        vist[k] += 1\n",
    "        X[k] = CalculaPonto(g, X, branch[k], k)\n",
    "        erro = CalculaErro(g, X, k)\n",
    "\n",
    "        prune = erro > delta\n",
    "\n",
    "        if not prune and k == n:\n",
    "            sol[\"X\"].append(np.copy(X))\n",
    "            sol[\"branch\"].append(np.copy(branch))\n",
    "            if onesol:\n",
    "                return sol\n",
    "\n",
    "        prune = prune or k == n\n",
    "\n",
    "        if prune and branch[k] == 1:\n",
    "            while k > 3 and branch[k] == 1:\n",
    "                k -= 1\n",
    "\n",
    "        if prune and branch[k] == 0:\n",
    "            branch[k] = 1\n",
    "            for i in range(k + 1, n + 1):\n",
    "                branch[i] = 0\n",
    "\n",
    "        if not prune:\n",
    "            k += 1\n",
    "\n",
    "    return sol"
   ]
  },
  {
   "cell_type": "code",
   "execution_count": 36,
   "id": "executive-testament",
   "metadata": {},
   "outputs": [],
   "source": [
    "sol = bp(n, g)"
   ]
  },
  {
   "cell_type": "markdown",
   "id": "artistic-filter",
   "metadata": {},
   "source": [
    "## Sym BP"
   ]
  },
  {
   "cell_type": "code",
   "execution_count": 37,
   "id": "comic-highland",
   "metadata": {},
   "outputs": [],
   "source": [
    "def ReflexaoPlano(x1, x2, x3, x):\n",
    "    v1 = x1 - x2\n",
    "    v2 = x3 - x2\n",
    "    n = np.cross(v1, v2)\n",
    "    n = n / norm(n)\n",
    "    t = 2 * np.dot(n, x2 - x)\n",
    "    return x + t * n\n",
    "\n",
    "\n",
    "def TrocaSinal(s, piv):\n",
    "    x1 = s[\"X\"][piv - 3]\n",
    "    x2 = s[\"X\"][piv - 2]\n",
    "    x3 = s[\"X\"][piv - 1]\n",
    "    t = copy.deepcopy(s)\n",
    "\n",
    "    for i in range(piv, len(t['X'])):\n",
    "        t['X'][i] = ReflexaoPlano(x1, x2, x3, t['X'][i])\n",
    "        t['branch'][i] = 1 - t['branch'][i]\n",
    "\n",
    "    return t"
   ]
  },
  {
   "cell_type": "code",
   "execution_count": 38,
   "id": "secure-lucas",
   "metadata": {},
   "outputs": [],
   "source": [
    "def EncontraCaminhos(sol, S):\n",
    "    tree = [0 for _ in range(2**(len(S) + 1))]\n",
    "    tree[1] = copy.deepcopy(sol)\n",
    "\n",
    "    piv = 0\n",
    "    k = 0\n",
    "    # print(\"tree[1]:\", tree[1] )\n",
    "    for i in range(1, 2**len(S)):\n",
    "        if 2**k == i:\n",
    "            piv = S[k]\n",
    "            k += 1\n",
    "        tree[2 * i] = copy.deepcopy(tree[i])\n",
    "        tree[2 * i + 1] = copy.deepcopy(TrocaSinal(tree[i], piv))\n",
    "\n",
    "    return tree[2**len(S):2**(len(S) + 1)]"
   ]
  },
  {
   "cell_type": "code",
   "execution_count": 39,
   "id": "conceptual-amazon",
   "metadata": {},
   "outputs": [],
   "source": [
    "def symbp(n, g, prune_edges):\n",
    "    sol = bp(n, g, True)\n",
    "    S = sym(n, prune_edges)\n",
    "    first_sol = {\"X\": sol[\"X\"][0], \"branch\": sol[\"branch\"][0]}\n",
    "    sol = {\"X\": [], \"branch\": []}\n",
    "    ans = EncontraCaminhos(first_sol, S)\n",
    "\n",
    "    for a in ans:\n",
    "        sol[\"X\"].append(a[\"X\"])\n",
    "        sol[\"branch\"].append(a[\"branch\"])\n",
    "\n",
    "    return sol"
   ]
  },
  {
   "cell_type": "code",
   "execution_count": 40,
   "id": "oriented-sharing",
   "metadata": {},
   "outputs": [],
   "source": [
    "sol = symbp(n, g, prune_edges)"
   ]
  },
  {
   "cell_type": "markdown",
   "id": "annoying-pickup",
   "metadata": {},
   "source": [
    "## Split"
   ]
  },
  {
   "cell_type": "code",
   "execution_count": 41,
   "id": "distinct-apartment",
   "metadata": {},
   "outputs": [],
   "source": [
    "def SplitInstance(n, g, S):\n",
    "    S = np.append(S, [n + 1])\n",
    "\n",
    "    h = []\n",
    "\n",
    "    for i in range(1, len(S)):\n",
    "        u = S[i - 1] - 3\n",
    "        v = S[i]\n",
    "\n",
    "        it = {\n",
    "            \"n\": v - u,\n",
    "            \"m\": 0,\n",
    "            \"edges\": [],\n",
    "            \"g\": [[] for _ in range(v - u + 1)]\n",
    "        }\n",
    "\n",
    "        for j in range(u, v):\n",
    "            for k, d in g[j]:\n",
    "                if j < k and k < v:\n",
    "                    it[\"edges\"].append((j - u + 1, k - u + 1, d))\n",
    "                    it[\"g\"][j - u + 1].append((k - u + 1, d))\n",
    "                    it[\"g\"][k - u + 1].append((j - u + 1, d))\n",
    "                    it[\"m\"] += 1\n",
    "\n",
    "        h.append(it)\n",
    "\n",
    "    return h"
   ]
  },
  {
   "cell_type": "code",
   "execution_count": 42,
   "id": "quarterly-photograph",
   "metadata": {},
   "outputs": [],
   "source": [
    "def EncontraSolucao(n, g, prune_edges, S):\n",
    "    h = SplitInstance(n, g, S.copy())\n",
    "\n",
    "    branch = [0, 0, 0, 0]\n",
    "\n",
    "    for it in h:\n",
    "        sol = bp(it['n'], it['g'], True)\n",
    "        bb = sol[\"branch\"][0][4:it['n'] + 1]\n",
    "        for b in bb:\n",
    "            branch.append(b)\n",
    "    branch = np.array(branch)\n",
    "\n",
    "    X = PontosIniciais(n, g)\n",
    "    for k in range(4, n + 1):\n",
    "        X[k] = CalculaPonto(g, X, branch[k], k)\n",
    "\n",
    "    return {\"X\": [X], \"branch\": [branch]}\n",
    "\n",
    "\n",
    "def splitbp(n, g, prune_edges):\n",
    "    S = sym(n, prune_edges)\n",
    "    sol = EncontraSolucao(n, g, prune_edges, S)\n",
    "    first_sol = {\"X\": sol[\"X\"][0], \"branch\": sol[\"branch\"][0]}\n",
    "    sol = {\"X\": [], \"branch\": []}\n",
    "    ans = EncontraCaminhos(first_sol, S)\n",
    "\n",
    "    for a in ans:\n",
    "        sol[\"X\"].append(a[\"X\"])\n",
    "        sol[\"branch\"].append(a[\"branch\"])\n",
    "\n",
    "    return sol"
   ]
  },
  {
   "cell_type": "code",
   "execution_count": 43,
   "id": "careful-white",
   "metadata": {},
   "outputs": [],
   "source": [
    "sol = splitbp(n, g, prune_edges)"
   ]
  },
  {
   "cell_type": "code",
   "execution_count": 44,
   "id": "alternate-biology",
   "metadata": {},
   "outputs": [],
   "source": [
    "X = sol[\"X\"]\n",
    "branch = sol[\"branch\"]"
   ]
  },
  {
   "cell_type": "code",
   "execution_count": 45,
   "id": "multiple-marine",
   "metadata": {},
   "outputs": [
    {
     "data": {
      "text/plain": [
       "[array([0, 0, 0, 0, 0, 1, 1, 0]),\n",
       " array([0, 0, 0, 0, 0, 1, 1, 1]),\n",
       " array([0, 0, 0, 0, 1, 0, 0, 1]),\n",
       " array([0, 0, 0, 0, 1, 0, 0, 0])]"
      ]
     },
     "execution_count": 45,
     "metadata": {},
     "output_type": "execute_result"
    }
   ],
   "source": [
    "branch"
   ]
  },
  {
   "cell_type": "code",
   "execution_count": 46,
   "id": "instant-prior",
   "metadata": {},
   "outputs": [
    {
     "name": "stdout",
     "output_type": "stream",
     "text": [
      "[[ 0.          0.          0.        ]\n",
      " [-1.526       0.          0.        ]\n",
      " [-2.03375551  1.43904842  0.        ]\n",
      " [-3.48238364  1.4663484  -0.47896477]\n",
      " [-3.5869252   2.33224155 -1.7311533 ]\n",
      " [-2.52933762  3.43105962 -1.67839585]\n",
      " [-1.29164169  2.91015495 -0.9535213 ]]\n",
      "[[ 0.          0.          0.        ]\n",
      " [-1.526       0.          0.        ]\n",
      " [-2.03375551  1.43904842  0.        ]\n",
      " [-3.48238364  1.4663484  -0.47896477]\n",
      " [-3.5869252   2.33224155 -1.7311533 ]\n",
      " [-2.52933762  3.43105962 -1.67839585]\n",
      " [-2.293594    3.83963535 -0.22713198]]\n",
      "[[ 0.          0.          0.        ]\n",
      " [-1.526       0.          0.        ]\n",
      " [-2.03375551  1.43904842  0.        ]\n",
      " [-3.48238364  1.4663484   0.47896477]\n",
      " [-3.5869252   2.33224155  1.7311533 ]\n",
      " [-2.52933762  3.43105962  1.67839585]\n",
      " [-1.29164169  2.91015495  0.9535213 ]]\n",
      "[[ 0.          0.          0.        ]\n",
      " [-1.526       0.          0.        ]\n",
      " [-2.03375551  1.43904842  0.        ]\n",
      " [-3.48238364  1.4663484   0.47896477]\n",
      " [-3.5869252   2.33224155  1.7311533 ]\n",
      " [-2.52933762  3.43105962  1.67839585]\n",
      " [-2.293594    3.83963535  0.22713198]]\n"
     ]
    }
   ],
   "source": [
    "for X in sol['X']:\n",
    "    print(X[1:])"
   ]
  },
  {
   "cell_type": "code",
   "execution_count": null,
   "id": "alternative-jacksonville",
   "metadata": {},
   "outputs": [],
   "source": []
  }
 ],
 "metadata": {
  "kernelspec": {
   "display_name": "Python 3",
   "language": "python",
   "name": "python3"
  },
  "language_info": {
   "codemirror_mode": {
    "name": "ipython",
    "version": 3
   },
   "file_extension": ".py",
   "mimetype": "text/x-python",
   "name": "python",
   "nbconvert_exporter": "python",
   "pygments_lexer": "ipython3",
   "version": "3.7.10"
  }
 },
 "nbformat": 4,
 "nbformat_minor": 5
}
